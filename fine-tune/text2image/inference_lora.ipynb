{
 "cells": [
  {
   "cell_type": "code",
   "execution_count": null,
   "metadata": {},
   "outputs": [],
   "source": [
    "import torch\n",
    "from diffusers import StableDiffusionPipeline\n",
    "\n",
    "# inference from checkpoint\n",
    "# model_path = \"/datas/kfh/finetune_sd/text2image/txt2img-finetune-lora/checkpoint-500/pytorch_model.bin\"\n",
    "\n",
    "# inference from fine-tuned model\n",
    "model_path = \"/datas/kfh/finetune_sd/text2image/txt2img-finetune-lora/pytorch_lora_weights.bin\"\n",
    "\n",
    "pipe = StableDiffusionPipeline.from_pretrained(\"runwayml/stable-diffusion-v1-5\", torch_dtype=torch.float16)\n",
    "pipe.unet.load_attn_procs(model_path)\n",
    "pipe.to(\"cuda:0\")"
   ]
  },
  {
   "cell_type": "code",
   "execution_count": 5,
   "metadata": {},
   "outputs": [
    {
     "name": "stderr",
     "output_type": "stream",
     "text": [
      "100%|██████████| 30/30 [00:01<00:00, 16.46it/s]\n",
      "100%|██████████| 30/30 [00:01<00:00, 16.48it/s]\n",
      "100%|██████████| 30/30 [00:01<00:00, 16.46it/s]\n",
      "100%|██████████| 30/30 [00:01<00:00, 16.26it/s]\n",
      "100%|██████████| 30/30 [00:01<00:00, 16.20it/s]\n"
     ]
    }
   ],
   "source": [
    "import os\n",
    "import sys\n",
    "\n",
    "num_examples = 5\n",
    "prompt = \"a wedding cake with flowers on the table\"\n",
    "negative_prompt=\"disfigured, ugly, bad, immature\",\n",
    "\n",
    "save_folder = os.path.join(sys.path[0], \"results\", prompt)\n",
    "os.makedirs(save_folder, exist_ok=True)\n",
    "for i in range(num_examples):\n",
    "    image = pipe(prompt=prompt,\n",
    "                 negative_prompt=negative_prompt,\n",
    "                 num_inference_steps=30,  # 推理步数, 默认为 50\n",
    "                 guidance_scale=7.5).images[0]  # # 指导度, 默认为 7.5\n",
    "    image.save(os.path.join(save_folder, 'image_{}.png'.format(i)))"
   ]
  }
 ],
 "metadata": {
  "kernelspec": {
   "display_name": "Python 3",
   "language": "python",
   "name": "python3"
  },
  "language_info": {
   "codemirror_mode": {
    "name": "ipython",
    "version": 3
   },
   "file_extension": ".py",
   "mimetype": "text/x-python",
   "name": "python",
   "nbconvert_exporter": "python",
   "pygments_lexer": "ipython3",
   "version": "3.9.13"
  },
  "orig_nbformat": 4
 },
 "nbformat": 4,
 "nbformat_minor": 2
}
