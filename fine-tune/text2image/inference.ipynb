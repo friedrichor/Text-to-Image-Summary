{
 "cells": [
  {
   "cell_type": "code",
   "execution_count": 1,
   "metadata": {},
   "outputs": [
    {
     "name": "stderr",
     "output_type": "stream",
     "text": [
      "/datas/kfh/anaconda3/envs/pytorch/lib/python3.9/site-packages/tqdm/auto.py:21: TqdmWarning: IProgress not found. Please update jupyter and ipywidgets. See https://ipywidgets.readthedocs.io/en/stable/user_install.html\n",
      "  from .autonotebook import tqdm as notebook_tqdm\n",
      "/datas/kfh/anaconda3/envs/pytorch/lib/python3.9/site-packages/transformers/models/clip/feature_extraction_clip.py:28: FutureWarning: The class CLIPFeatureExtractor is deprecated and will be removed in version 5 of Transformers. Please use CLIPImageProcessor instead.\n",
      "  warnings.warn(\n"
     ]
    },
    {
     "data": {
      "text/plain": [
       "StableDiffusionPipeline {\n",
       "  \"_class_name\": \"StableDiffusionPipeline\",\n",
       "  \"_diffusers_version\": \"0.15.0.dev0\",\n",
       "  \"feature_extractor\": [\n",
       "    \"transformers\",\n",
       "    \"CLIPFeatureExtractor\"\n",
       "  ],\n",
       "  \"requires_safety_checker\": true,\n",
       "  \"safety_checker\": [\n",
       "    \"stable_diffusion\",\n",
       "    \"StableDiffusionSafetyChecker\"\n",
       "  ],\n",
       "  \"scheduler\": [\n",
       "    \"diffusers\",\n",
       "    \"PNDMScheduler\"\n",
       "  ],\n",
       "  \"text_encoder\": [\n",
       "    \"transformers\",\n",
       "    \"CLIPTextModel\"\n",
       "  ],\n",
       "  \"tokenizer\": [\n",
       "    \"transformers\",\n",
       "    \"CLIPTokenizer\"\n",
       "  ],\n",
       "  \"unet\": [\n",
       "    \"diffusers\",\n",
       "    \"UNet2DConditionModel\"\n",
       "  ],\n",
       "  \"vae\": [\n",
       "    \"diffusers\",\n",
       "    \"AutoencoderKL\"\n",
       "  ]\n",
       "}"
      ]
     },
     "execution_count": 1,
     "metadata": {},
     "output_type": "execute_result"
    }
   ],
   "source": [
    "import torch\n",
    "from diffusers import StableDiffusionPipeline, UNet2DConditionModel\n",
    "\n",
    "device = \"cuda:0\"\n",
    "\n",
    "# inference from fine-tuned model\n",
    "model_path = \"/datas/kfh/finetune_sd/text2image/txt2img-finetune\"\n",
    "pipe = StableDiffusionPipeline.from_pretrained(model_path, torch_dtype=torch.float16)\n",
    "pipe.to(device)\n",
    "\n",
    "\"\"\"\n",
    "# inference from checkpoint\n",
    "model_id = \"runwayml/stable-diffusion-v1-5\"\n",
    "unet = UNet2DConditionModel.from_pretrained(\"/datas/kfh/finetune_sd/text2image/txt2img-finetune/checkpoint-500/unet\")\n",
    "pipe = StableDiffusionPipeline.from_pretrained(model_id,\n",
    "                                               unet=unet,\n",
    "                                               torch_dtype=torch.float32)\n",
    "pipe.to(device)\n",
    "\"\"\""
   ]
  },
  {
   "cell_type": "code",
   "execution_count": null,
   "metadata": {},
   "outputs": [],
   "source": [
    "import os\n",
    "import sys\n",
    "\n",
    "num_examples = 5\n",
    "prompt = \"a wedding cake with flowers on the table\"\n",
    "negative_prompt=\"disfigured, ugly, bad, immature\"\n",
    "\n",
    "save_folder = os.path.join(sys.path[0], \"results\", prompt)\n",
    "os.makedirs(save_folder, exist_ok=True)\n",
    "for i in range(num_examples):\n",
    "    image = pipe(prompt,\n",
    "                 negative_prompt=negative_prompt,\n",
    "                 num_inference_steps=30,  # 推理步数, 默认为 50\n",
    "                 guidance_scale=7.5).images[0]  # # 指导度, 默认为 7.5\n",
    "    image.save(os.path.join(save_folder, 'image_{}.png'.format(i)))"
   ]
  }
 ],
 "metadata": {
  "kernelspec": {
   "display_name": "Python 3",
   "language": "python",
   "name": "python3"
  },
  "language_info": {
   "codemirror_mode": {
    "name": "ipython",
    "version": 3
   },
   "file_extension": ".py",
   "mimetype": "text/x-python",
   "name": "python",
   "nbconvert_exporter": "python",
   "pygments_lexer": "ipython3",
   "version": "3.9.13"
  },
  "orig_nbformat": 4
 },
 "nbformat": 4,
 "nbformat_minor": 2
}
